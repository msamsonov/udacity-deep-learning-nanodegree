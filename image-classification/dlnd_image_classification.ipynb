{
 "cells": [
  {
   "cell_type": "markdown",
   "metadata": {
    "collapsed": true
   },
   "source": [
    "# Image Classification\n",
    "In this project, you'll classify images from the [CIFAR-10 dataset](https://www.cs.toronto.edu/~kriz/cifar.html).  The dataset consists of airplanes, dogs, cats, and other objects. You'll preprocess the images, then train a convolutional neural network on all the samples. The images need to be normalized and the labels need to be one-hot encoded.  You'll get to apply what you learned and build a convolutional, max pooling, dropout, and fully connected layers.  At the end, you'll get to see your neural network's predictions on the sample images.\n",
    "## Get the Data\n",
    "Run the following cell to download the [CIFAR-10 dataset for python](https://www.cs.toronto.edu/~kriz/cifar-10-python.tar.gz)."
   ]
  },
  {
   "cell_type": "code",
   "execution_count": 157,
   "metadata": {},
   "outputs": [
    {
     "name": "stdout",
     "output_type": "stream",
     "text": [
      "All files found!\n"
     ]
    }
   ],
   "source": [
    "\"\"\"\n",
    "DON'T MODIFY ANYTHING IN THIS CELL THAT IS BELOW THIS LINE\n",
    "\"\"\"\n",
    "from urllib.request import urlretrieve\n",
    "from os.path import isfile, isdir\n",
    "from tqdm import tqdm\n",
    "import problem_unittests as tests\n",
    "import tarfile\n",
    "\n",
    "cifar10_dataset_folder_path = 'cifar-10-batches-py'\n",
    "\n",
    "# Use Floyd's cifar-10 dataset if present\n",
    "floyd_cifar10_location = '/cifar/cifar-10-python.tar.gz'\n",
    "if isfile(floyd_cifar10_location):\n",
    "    tar_gz_path = floyd_cifar10_location\n",
    "else:\n",
    "    tar_gz_path = 'cifar-10-python.tar.gz'\n",
    "\n",
    "class DLProgress(tqdm):\n",
    "    last_block = 0\n",
    "\n",
    "    def hook(self, block_num=1, block_size=1, total_size=None):\n",
    "        self.total = total_size\n",
    "        self.update((block_num - self.last_block) * block_size)\n",
    "        self.last_block = block_num\n",
    "\n",
    "if not isfile(tar_gz_path):\n",
    "    with DLProgress(unit='B', unit_scale=True, miniters=1, desc='CIFAR-10 Dataset') as pbar:\n",
    "        urlretrieve(\n",
    "            'https://www.cs.toronto.edu/~kriz/cifar-10-python.tar.gz',\n",
    "            tar_gz_path,\n",
    "            pbar.hook)\n",
    "\n",
    "if not isdir(cifar10_dataset_folder_path):\n",
    "    with tarfile.open(tar_gz_path) as tar:\n",
    "        tar.extractall()\n",
    "        tar.close()\n",
    "\n",
    "\n",
    "tests.test_folder_path(cifar10_dataset_folder_path)"
   ]
  },
  {
   "cell_type": "markdown",
   "metadata": {},
   "source": [
    "## Explore the Data\n",
    "The dataset is broken into batches to prevent your machine from running out of memory.  The CIFAR-10 dataset consists of 5 batches, named `data_batch_1`, `data_batch_2`, etc.. Each batch contains the labels and images that are one of the following:\n",
    "* airplane\n",
    "* automobile\n",
    "* bird\n",
    "* cat\n",
    "* deer\n",
    "* dog\n",
    "* frog\n",
    "* horse\n",
    "* ship\n",
    "* truck\n",
    "\n",
    "Understanding a dataset is part of making predictions on the data.  Play around with the code cell below by changing the `batch_id` and `sample_id`. The `batch_id` is the id for a batch (1-5). The `sample_id` is the id for a image and label pair in the batch.\n",
    "\n",
    "Ask yourself \"What are all possible labels?\", \"What is the range of values for the image data?\", \"Are the labels in order or random?\".  Answers to questions like these will help you preprocess the data and end up with better predictions."
   ]
  },
  {
   "cell_type": "code",
   "execution_count": 158,
   "metadata": {},
   "outputs": [
    {
     "name": "stdout",
     "output_type": "stream",
     "text": [
      "\n",
      "Stats of batch 1:\n",
      "Samples: 10000\n",
      "Label Counts: {0: 1005, 1: 974, 2: 1032, 3: 1016, 4: 999, 5: 937, 6: 1030, 7: 1001, 8: 1025, 9: 981}\n",
      "First 20 Labels: [6, 9, 9, 4, 1, 1, 2, 7, 8, 3, 4, 7, 7, 2, 9, 9, 9, 3, 2, 6]\n",
      "\n",
      "Example of Image 71:\n",
      "Image - Min Value: 0 Max Value: 255\n",
      "Image - Shape: (32, 32, 3)\n",
      "Label - Label Id: 9 Name: truck\n"
     ]
    },
    {
     "data": {
      "image/png": "[encoded data removed]",
      "text/plain": [
       "<matplotlib.figure.Figure at 0x207cd24a4e0>"
      ]
     },
     "metadata": {
      "image/png": {
       "height": 250,
       "width": 253
      }
     },
     "output_type": "display_data"
    }
   ],
   "source": [
    "%matplotlib inline\n",
    "%config InlineBackend.figure_format = 'retina'\n",
    "\n",
    "import helper\n",
    "import numpy as np\n",
    "\n",
    "# Explore the dataset\n",
    "batch_id = 1\n",
    "sample_id = 71\n",
    "helper.display_stats(cifar10_dataset_folder_path, batch_id, sample_id)"
   ]
  },
  {
   "cell_type": "markdown",
   "metadata": {},
   "source": [
    "## Implement Preprocess Functions\n",
    "### Normalize\n",
    "In the cell below, implement the `normalize` function to take in image data, `x`, and return it as a normalized Numpy array. The values should be in the range of 0 to 1, inclusive.  The return object should be the same shape as `x`."
   ]
  },
  {
   "cell_type": "code",
   "execution_count": 14,
   "metadata": {},
   "outputs": [
    {
     "name": "stdout",
     "output_type": "stream",
     "text": [
      "Tests Passed\n"
     ]
    }
   ],
   "source": [
    "def normalize(x):\n",
    "    \"\"\"\n",
    "    Normalize a list of sample image data in the range of 0 to 1\n",
    "    : x: List of image data.  The image shape is (32, 32, 3)\n",
    "    : return: Numpy array of normalize data\n",
    "    \"\"\"\n",
    "    # TODO: Implement Function\n",
    "    return x / 255\n",
    "\n",
    "\n",
    "\"\"\"\n",
    "DON'T MODIFY ANYTHING IN THIS CELL THAT IS BELOW THIS LINE\n",
    "\"\"\"\n",
    "tests.test_normalize(normalize)"
   ]
  },
  {
   "cell_type": "markdown",
   "metadata": {},
   "source": [
    "### One-hot encode\n",
    "Just like the previous code cell, you'll be implementing a function for preprocessing.  This time, you'll implement the `one_hot_encode` function. The input, `x`, are a list of labels.  Implement the function to return the list of labels as One-Hot encoded Numpy array.  The possible values for labels are 0 to 9. The one-hot encoding function should return the same encoding for each value between each call to `one_hot_encode`.  Make sure to save the map of encodings outside the function.\n",
    "\n",
    "Hint: Don't reinvent the wheel."
   ]
  },
  {
   "cell_type": "code",
   "execution_count": 18,
   "metadata": {},
   "outputs": [
    {
     "name": "stdout",
     "output_type": "stream",
     "text": [
      "Tests Passed\n"
     ]
    }
   ],
   "source": [
    "nlabels = 10\n",
    "one_hot_dic = {label: [1 if label == num else 0 for num in range(nlabels)] for label in range(nlabels)}\n",
    "\n",
    "def one_hot_encode(x):\n",
    "    \"\"\"\n",
    "    One hot encode a list of sample labels. Return a one-hot encoded vector for each label.\n",
    "    : x: List of sample Labels\n",
    "    : return: Numpy array of one-hot encoded labels\n",
    "    \"\"\"\n",
    "    # TODO: Implement Function\n",
    "    return np.array([one_hot_dic[label] for label in x])\n",
    "\n",
    "\n",
    "\"\"\"\n",
    "DON'T MODIFY ANYTHING IN THIS CELL THAT IS BELOW THIS LINE\n",
    "\"\"\"\n",
    "tests.test_one_hot_encode(one_hot_encode)"
   ]
  },
  {
   "cell_type": "markdown",
   "metadata": {},
   "source": [
    "### Randomize Data\n",
    "As you saw from exploring the data above, the order of the samples are randomized.  It doesn't hurt to randomize it again, but you don't need to for this dataset."
   ]
  },
  {
   "cell_type": "markdown",
   "metadata": {},
   "source": [
    "## Preprocess all the data and save it\n",
    "Running the code cell below will preprocess all the CIFAR-10 data and save it to file. The code below also uses 10% of the training data for validation."
   ]
  },
  {
   "cell_type": "code",
   "execution_count": 19,
   "metadata": {
    "collapsed": true
   },
   "outputs": [],
   "source": [
    "\"\"\"\n",
    "DON'T MODIFY ANYTHING IN THIS CELL\n",
    "\"\"\"\n",
    "# Preprocess Training, Validation, and Testing Data\n",
    "helper.preprocess_and_save_data(cifar10_dataset_folder_path, normalize, one_hot_encode)"
   ]
  },
  {
   "cell_type": "markdown",
   "metadata": {},
   "source": [
    "# Check Point\n",
    "This is your first checkpoint.  If you ever decide to come back to this notebook or have to restart the notebook, you can start from here.  The preprocessed data has been saved to disk."
   ]
  },
  {
   "cell_type": "code",
   "execution_count": 1,
   "metadata": {
    "collapsed": true
   },
   "outputs": [],
   "source": [
    "import numpy as np\n",
    "\n",
    "\"\"\"\n",
    "DON'T MODIFY ANYTHING IN THIS CELL\n",
    "\"\"\"\n",
    "import pickle\n",
    "import problem_unittests as tests\n",
    "import helper\n",
    "\n",
    "# Load the Preprocessed Validation data\n",
    "valid_features, valid_labels = pickle.load(open('preprocess_validation.p', mode='rb'))"
   ]
  },
  {
   "cell_type": "markdown",
   "metadata": {},
   "source": [
    "## Build the network\n",
    "For the neural network, you'll build each layer into a function.  Most of the code you've seen has been outside of functions. To test your code more thoroughly, we require that you put each layer in a function.  This allows us to give you better feedback and test for simple mistakes using our unittests before you submit your project.\n",
    "\n",
    ">**Note:** If you're finding it hard to dedicate enough time for this course each week, we've provided a small shortcut to this part of the project. In the next couple of problems, you'll have the option to use classes from the [TensorFlow Layers](https://www.tensorflow.org/api_docs/python/tf/layers) or [TensorFlow Layers (contrib)](https://www.tensorflow.org/api_guides/python/contrib.layers) packages to build each layer, except the layers you build in the \"Convolutional and Max Pooling Layer\" section.  TF Layers is similar to Keras's and TFLearn's abstraction to layers, so it's easy to pickup.\n",
    "\n",
    ">However, if you would like to get the most out of this course, try to solve all the problems _without_ using anything from the TF Layers packages. You **can** still use classes from other packages that happen to have the same name as ones you find in TF Layers! For example, instead of using the TF Layers version of the `conv2d` class, [tf.layers.conv2d](https://www.tensorflow.org/api_docs/python/tf/layers/conv2d), you would want to use the TF Neural Network version of `conv2d`, [tf.nn.conv2d](https://www.tensorflow.org/api_docs/python/tf/nn/conv2d). \n",
    "\n",
    "Let's begin!\n",
    "\n",
    "### Input\n",
    "The neural network needs to read the image data, one-hot encoded labels, and dropout keep probability. Implement the following functions\n",
    "* Implement `neural_net_image_input`\n",
    " * Return a [TF Placeholder](https://www.tensorflow.org/api_docs/python/tf/placeholder)\n",
    " * Set the shape using `image_shape` with batch size set to `None`.\n",
    " * Name the TensorFlow placeholder \"x\" using the TensorFlow `name` parameter in the [TF Placeholder](https://www.tensorflow.org/api_docs/python/tf/placeholder).\n",
    "* Implement `neural_net_label_input`\n",
    " * Return a [TF Placeholder](https://www.tensorflow.org/api_docs/python/tf/placeholder)\n",
    " * Set the shape using `n_classes` with batch size set to `None`.\n",
    " * Name the TensorFlow placeholder \"y\" using the TensorFlow `name` parameter in the [TF Placeholder](https://www.tensorflow.org/api_docs/python/tf/placeholder).\n",
    "* Implement `neural_net_keep_prob_input`\n",
    " * Return a [TF Placeholder](https://www.tensorflow.org/api_docs/python/tf/placeholder) for dropout keep probability.\n",
    " * Name the TensorFlow placeholder \"keep_prob\" using the TensorFlow `name` parameter in the [TF Placeholder](https://www.tensorflow.org/api_docs/python/tf/placeholder).\n",
    "\n",
    "These names will be used at the end of the project to load your saved model.\n",
    "\n",
    "Note: `None` for shapes in TensorFlow allow for a dynamic size."
   ]
  },
  {
   "cell_type": "code",
   "execution_count": 2,
   "metadata": {},
   "outputs": [
    {
     "name": "stdout",
     "output_type": "stream",
     "text": [
      "Image Input Tests Passed.\n",
      "Label Input Tests Passed.\n",
      "Keep Prob Tests Passed.\n"
     ]
    }
   ],
   "source": [
    "import tensorflow as tf\n",
    "\n",
    "def neural_net_image_input(image_shape):\n",
    "    \"\"\"\n",
    "    Return a Tensor for a batch of image input\n",
    "    : image_shape: Shape of the images\n",
    "    : return: Tensor for image input.\n",
    "    \"\"\"\n",
    "    # TODO: Implement Function\n",
    "    return tf.placeholder(tf.float32, shape = (None,) + image_shape, name = 'x')\n",
    "\n",
    "\n",
    "def neural_net_label_input(n_classes):\n",
    "    \"\"\"\n",
    "    Return a Tensor for a batch of label input\n",
    "    : n_classes: Number of classes\n",
    "    : return: Tensor for label input.\n",
    "    \"\"\"\n",
    "    # TODO: Implement Function\n",
    "    return tf.placeholder(tf.float32, shape = (None, n_classes), name = 'y')\n",
    "\n",
    "\n",
    "def neural_net_keep_prob_input():\n",
    "    \"\"\"\n",
    "    Return a Tensor for keep probability\n",
    "    : return: Tensor for keep probability.\n",
    "    \"\"\"\n",
    "    # TODO: Implement Function\n",
    "    return tf.placeholder(tf.float32, name = 'keep_prob')\n",
    "\n",
    "\n",
    "\"\"\"\n",
    "DON'T MODIFY ANYTHING IN THIS CELL THAT IS BELOW THIS LINE\n",
    "\"\"\"\n",
    "tf.reset_default_graph()\n",
    "tests.test_nn_image_inputs(neural_net_image_input)\n",
    "tests.test_nn_label_inputs(neural_net_label_input)\n",
    "tests.test_nn_keep_prob_inputs(neural_net_keep_prob_input)"
   ]
  },
  {
   "cell_type": "markdown",
   "metadata": {},
   "source": [
    "### Convolution and Max Pooling Layer\n",
    "Convolution layers have a lot of success with images. For this code cell, you should implement the function `conv2d_maxpool` to apply convolution then max pooling:\n",
    "* Create the weight and bias using `conv_ksize`, `conv_num_outputs` and the shape of `x_tensor`.\n",
    "* Apply a convolution to `x_tensor` using weight and `conv_strides`.\n",
    " * We recommend you use same padding, but you're welcome to use any padding.\n",
    "* Add bias\n",
    "* Add a nonlinear activation to the convolution.\n",
    "* Apply Max Pooling using `pool_ksize` and `pool_strides`.\n",
    " * We recommend you use same padding, but you're welcome to use any padding.\n",
    "\n",
    "**Note:** You **can't** use [TensorFlow Layers](https://www.tensorflow.org/api_docs/python/tf/layers) or [TensorFlow Layers (contrib)](https://www.tensorflow.org/api_guides/python/contrib.layers) for **this** layer, but you can still use TensorFlow's [Neural Network](https://www.tensorflow.org/api_docs/python/tf/nn) package. You may still use the shortcut option for all the **other** layers."
   ]
  },
  {
   "cell_type": "code",
   "execution_count": 56,
   "metadata": {},
   "outputs": [
    {
     "name": "stdout",
     "output_type": "stream",
     "text": [
      "Tests Passed\n"
     ]
    }
   ],
   "source": [
    "def conv2d_maxpool(x_tensor, conv_num_outputs, conv_ksize, conv_strides, pool_ksize, pool_strides):\n",
    "    \"\"\"\n",
    "    Apply convolution then max pooling to x_tensor\n",
    "    :param x_tensor: TensorFlow Tensor\n",
    "    :param conv_num_outputs: Number of outputs for the convolutional layer\n",
    "    :param conv_ksize: kernal size 2-D Tuple for the convolutional layer\n",
    "    :param conv_strides: Stride 2-D Tuple for convolution\n",
    "    :param pool_ksize: kernal size 2-D Tuple for pool\n",
    "    :param pool_strides: Stride 2-D Tuple for pool\n",
    "    : return: A tensor that represents convolution and max pooling of x_tensor\n",
    "    \"\"\"\n",
    "    \n",
    "    # TODO: Implement Function\n",
    "    def withOnes(tpl):\n",
    "        return (1,) + tpl + (1,)\n",
    "    \n",
    "    weight = tf.Variable(tf.truncated_normal(conv_ksize + (x_tensor.shape.as_list()[3], conv_num_outputs), stddev=0.1))\n",
    "    bias = tf.Variable(tf.zeros(conv_num_outputs))\n",
    "    \n",
    "    conv_layer = tf.nn.conv2d(x_tensor, weight, strides = withOnes(conv_strides), padding = 'SAME')\n",
    "    conv_layer = tf.nn.bias_add(conv_layer, bias)\n",
    "    conv_layer = tf.nn.relu(conv_layer)\n",
    "    conv_layer = tf.nn.max_pool(conv_layer, ksize = withOnes(pool_ksize), strides = withOnes(pool_strides), padding = 'SAME')\n",
    "    \n",
    "    return conv_layer\n",
    "\n",
    "\n",
    "\"\"\"\n",
    "DON'T MODIFY ANYTHING IN THIS CELL THAT IS BELOW THIS LINE\n",
    "\"\"\"\n",
    "tests.test_con_pool(conv2d_maxpool)"
   ]
  },
  {
   "cell_type": "markdown",
   "metadata": {},
   "source": [
    "### Flatten Layer\n",
    "Implement the `flatten` function to change the dimension of `x_tensor` from a 4-D tensor to a 2-D tensor.  The output should be the shape (*Batch Size*, *Flattened Image Size*). Shortcut option: you can use classes from the [TensorFlow Layers](https://www.tensorflow.org/api_docs/python/tf/layers) or [TensorFlow Layers (contrib)](https://www.tensorflow.org/api_guides/python/contrib.layers) packages for this layer. For more of a challenge, only use other TensorFlow packages."
   ]
  },
  {
   "cell_type": "code",
   "execution_count": 4,
   "metadata": {},
   "outputs": [
    {
     "name": "stdout",
     "output_type": "stream",
     "text": [
      "Tests Passed\n"
     ]
    }
   ],
   "source": [
    "def flatten(x_tensor):\n",
    "    \"\"\"\n",
    "    Flatten x_tensor to (Batch Size, Flattened Image Size)\n",
    "    : x_tensor: A tensor of size (Batch Size, ...), where ... are the image dimensions.\n",
    "    : return: A tensor of size (Batch Size, Flattened Image Size).\n",
    "    \"\"\"\n",
    "    \n",
    "    # TODO: Implement Function\n",
    "    length = np.prod(x_tensor.shape.as_list()[1:])\n",
    "    return tf.reshape(x_tensor, [-1, length])\n",
    "\n",
    "\"\"\"\n",
    "DON'T MODIFY ANYTHING IN THIS CELL THAT IS BELOW THIS LINE\n",
    "\"\"\"\n",
    "tests.test_flatten(flatten)"
   ]
  },
  {
   "cell_type": "markdown",
   "metadata": {},
   "source": [
    "### Fully-Connected Layer\n",
    "Implement the `fully_conn` function to apply a fully connected layer to `x_tensor` with the shape (*Batch Size*, *num_outputs*). Shortcut option: you can use classes from the [TensorFlow Layers](https://www.tensorflow.org/api_docs/python/tf/layers) or [TensorFlow Layers (contrib)](https://www.tensorflow.org/api_guides/python/contrib.layers) packages for this layer. For more of a challenge, only use other TensorFlow packages."
   ]
  },
  {
   "cell_type": "code",
   "execution_count": 57,
   "metadata": {},
   "outputs": [
    {
     "name": "stdout",
     "output_type": "stream",
     "text": [
      "Tests Passed\n"
     ]
    }
   ],
   "source": [
    "def fully_conn(x_tensor, num_outputs):\n",
    "    \"\"\"\n",
    "    Apply a fully connected layer to x_tensor using weight and bias\n",
    "    : x_tensor: A 2-D tensor where the first dimension is batch size.\n",
    "    : num_outputs: The number of output that the new tensor should be.\n",
    "    : return: A 2-D tensor where the second dimension is num_outputs.\n",
    "    \"\"\"\n",
    "    \n",
    "    # TODO: Implement Function\n",
    "    weight = tf.Variable(tf.truncated_normal((x_tensor.shape.as_list()[1], num_outputs), stddev=0.1))\n",
    "    bias = tf.Variable(tf.zeros(num_outputs))\n",
    "    \n",
    "    fully_conn_layer = tf.matmul(x_tensor, weight)\n",
    "    fully_conn_layer = tf.nn.bias_add(fully_conn_layer, bias)\n",
    "    \n",
    "    return fully_conn_layer\n",
    "\n",
    "\"\"\"\n",
    "DON'T MODIFY ANYTHING IN THIS CELL THAT IS BELOW THIS LINE\n",
    "\"\"\"\n",
    "tests.test_fully_conn(fully_conn)"
   ]
  },
  {
   "cell_type": "markdown",
   "metadata": {},
   "source": [
    "### Output Layer\n",
    "Implement the `output` function to apply a fully connected layer to `x_tensor` with the shape (*Batch Size*, *num_outputs*). Shortcut option: you can use classes from the [TensorFlow Layers](https://www.tensorflow.org/api_docs/python/tf/layers) or [TensorFlow Layers (contrib)](https://www.tensorflow.org/api_guides/python/contrib.layers) packages for this layer. For more of a challenge, only use other TensorFlow packages.\n",
    "\n",
    "**Note:** Activation, softmax, or cross entropy should **not** be applied to this."
   ]
  },
  {
   "cell_type": "code",
   "execution_count": 6,
   "metadata": {},
   "outputs": [
    {
     "name": "stdout",
     "output_type": "stream",
     "text": [
      "Tests Passed\n"
     ]
    }
   ],
   "source": [
    "def output(x_tensor, num_outputs):\n",
    "    \"\"\"\n",
    "    Apply a output layer to x_tensor using weight and bias\n",
    "    : x_tensor: A 2-D tensor where the first dimension is batch size.\n",
    "    : num_outputs: The number of output that the new tensor should be.\n",
    "    : return: A 2-D tensor where the second dimension is num_outputs.\n",
    "    \"\"\"\n",
    "    \n",
    "    # TODO: Implement Function\n",
    "    return fully_conn(x_tensor, num_outputs)\n",
    "\n",
    "\n",
    "\"\"\"\n",
    "DON'T MODIFY ANYTHING IN THIS CELL THAT IS BELOW THIS LINE\n",
    "\"\"\"\n",
    "tests.test_output(output)"
   ]
  },
  {
   "cell_type": "markdown",
   "metadata": {},
   "source": [
    "### Create Convolutional Model\n",
    "Implement the function `conv_net` to create a convolutional neural network model. The function takes in a batch of images, `x`, and outputs logits.  Use the layers you created above to create this model:\n",
    "\n",
    "* Apply 1, 2, or 3 Convolution and Max Pool layers\n",
    "* Apply a Flatten Layer\n",
    "* Apply 1, 2, or 3 Fully Connected Layers\n",
    "* Apply an Output Layer\n",
    "* Return the output\n",
    "* Apply [TensorFlow's Dropout](https://www.tensorflow.org/api_docs/python/tf/nn/dropout) to one or more layers in the model using `keep_prob`. "
   ]
  },
  {
   "cell_type": "code",
   "execution_count": 152,
   "metadata": {},
   "outputs": [
    {
     "name": "stdout",
     "output_type": "stream",
     "text": [
      "Neural Network Built!\n"
     ]
    }
   ],
   "source": [
    "def conv_net(x, keep_prob):\n",
    "    \"\"\"\n",
    "    Create a convolutional neural network model\n",
    "    : x: Placeholder tensor that holds image data.\n",
    "    : keep_prob: Placeholder tensor that hold dropout keep probability.\n",
    "    : return: Tensor that represents logits\n",
    "    \"\"\"\n",
    "    \n",
    "    # TODO: Apply 1, 2, or 3 Convolution and Max Pool layers\n",
    "    #    Play around with different number of outputs, kernel size and stride\n",
    "    # Function Definition from Above:\n",
    "    #    conv2d_maxpool(x_tensor, conv_num_outputs, conv_ksize, conv_strides, pool_ksize, pool_strides)\n",
    "    \n",
    "    conv1 = conv2d_maxpool(x, 40, (3, 3), (2, 2), (2, 2), (2, 2))\n",
    "    conv2 = conv2d_maxpool(conv1, 80, (3, 3), (2, 2), (2, 2), (2, 2))\n",
    "\n",
    "    # TODO: Apply a Flatten Layer\n",
    "    # Function Definition from Above:\n",
    "    #   flatten(x_tensor)\n",
    "    \n",
    "    fl = flatten(conv2)\n",
    "\n",
    "    # TODO: Apply 1, 2, or 3 Fully Connected Layers\n",
    "    #    Play around with different number of outputs\n",
    "    # Function Definition from Above:\n",
    "    #   fully_conn(x_tensor, num_outputs)\n",
    "    \n",
    "    fc1 = fully_conn(fl, 500)\n",
    "    fc1 = tf.nn.dropout(fc1, keep_prob)\n",
    "    fc2 = fully_conn(fc1, 500)\n",
    "    fc2 = tf.nn.dropout(fc2, keep_prob)\n",
    "    fc3 = fully_conn(fc2, 100)\n",
    "    fc3 = tf.nn.dropout(fc3, keep_prob)\n",
    "    \n",
    "    # TODO: Apply an Output Layer\n",
    "    #    Set this to the number of classes\n",
    "    # Function Definition from Above:\n",
    "    #   output(x_tensor, num_outputs)\n",
    "    \n",
    "    result = output(fc2, 10)\n",
    "    \n",
    "    # TODO: return output\n",
    "    return result\n",
    "\n",
    "\n",
    "\"\"\"\n",
    "DON'T MODIFY ANYTHING IN THIS CELL THAT IS BELOW THIS LINE\n",
    "\"\"\"\n",
    "\n",
    "##############################\n",
    "## Build the Neural Network ##\n",
    "##############################\n",
    "\n",
    "# Remove previous weights, bias, inputs, etc..\n",
    "tf.reset_default_graph()\n",
    "\n",
    "# Inputs\n",
    "x = neural_net_image_input((32, 32, 3))\n",
    "y = neural_net_label_input(10)\n",
    "keep_prob = neural_net_keep_prob_input()\n",
    "\n",
    "# Model\n",
    "logits = conv_net(x, keep_prob)\n",
    "\n",
    "# Name logits Tensor, so that is can be loaded from disk after training\n",
    "logits = tf.identity(logits, name='logits')\n",
    "\n",
    "# Loss and Optimizer\n",
    "cost = tf.reduce_mean(tf.nn.softmax_cross_entropy_with_logits(logits=logits, labels=y))\n",
    "optimizer = tf.train.AdamOptimizer().minimize(cost)\n",
    "\n",
    "# Accuracy\n",
    "correct_pred = tf.equal(tf.argmax(logits, 1), tf.argmax(y, 1))\n",
    "accuracy = tf.reduce_mean(tf.cast(correct_pred, tf.float32), name='accuracy')\n",
    "\n",
    "tests.test_conv_net(conv_net)"
   ]
  },
  {
   "cell_type": "markdown",
   "metadata": {},
   "source": [
    "## Train the Neural Network\n",
    "### Single Optimization\n",
    "Implement the function `train_neural_network` to do a single optimization.  The optimization should use `optimizer` to optimize in `session` with a `feed_dict` of the following:\n",
    "* `x` for image input\n",
    "* `y` for labels\n",
    "* `keep_prob` for keep probability for dropout\n",
    "\n",
    "This function will be called for each batch, so `tf.global_variables_initializer()` has already been called.\n",
    "\n",
    "Note: Nothing needs to be returned. This function is only optimizing the neural network."
   ]
  },
  {
   "cell_type": "code",
   "execution_count": 8,
   "metadata": {},
   "outputs": [
    {
     "name": "stdout",
     "output_type": "stream",
     "text": [
      "Tests Passed\n"
     ]
    }
   ],
   "source": [
    "def train_neural_network(session, optimizer, keep_probability, feature_batch, label_batch):\n",
    "    \"\"\"\n",
    "    Optimize the session on a batch of images and labels\n",
    "    : session: Current TensorFlow session\n",
    "    : optimizer: TensorFlow optimizer function\n",
    "    : keep_probability: keep probability\n",
    "    : feature_batch: Batch of Numpy image data\n",
    "    : label_batch: Batch of Numpy label data\n",
    "    \"\"\"\n",
    "    \n",
    "    # TODO: Implement Function\n",
    "    session.run(optimizer, feed_dict = {\n",
    "        x: feature_batch,\n",
    "        y: label_batch,\n",
    "        keep_prob: keep_probability})\n",
    "\n",
    "\n",
    "\"\"\"\n",
    "DON'T MODIFY ANYTHING IN THIS CELL THAT IS BELOW THIS LINE\n",
    "\"\"\"\n",
    "tests.test_train_nn(train_neural_network)"
   ]
  },
  {
   "cell_type": "markdown",
   "metadata": {},
   "source": [
    "### Show Stats\n",
    "Implement the function `print_stats` to print loss and validation accuracy.  Use the global variables `valid_features` and `valid_labels` to calculate validation accuracy.  Use a keep probability of `1.0` to calculate the loss and validation accuracy."
   ]
  },
  {
   "cell_type": "code",
   "execution_count": 31,
   "metadata": {},
   "outputs": [],
   "source": [
    "def print_stats(session, feature_batch, label_batch, cost, accuracy):\n",
    "    \"\"\"\n",
    "    Print information about loss and validation accuracy\n",
    "    : session: Current TensorFlow session\n",
    "    : feature_batch: Batch of Numpy image data\n",
    "    : label_batch: Batch of Numpy label data\n",
    "    : cost: TensorFlow cost function\n",
    "    : accuracy: TensorFlow accuracy function\n",
    "    \"\"\"\n",
    "    # TODO: Implement Function\n",
    "    loss = session.run(cost, feed_dict = {\n",
    "        x: feature_batch,\n",
    "        y: label_batch,\n",
    "        keep_prob: 1.0})\n",
    "    valid_acc = session.run(accuracy, feed_dict={\n",
    "        x: valid_features,\n",
    "        y: valid_labels,\n",
    "        keep_prob: 1.0})\n",
    "    print (\"loss: \", loss, \"accuracy: \", valid_acc)"
   ]
  },
  {
   "cell_type": "markdown",
   "metadata": {},
   "source": [
    "### Hyperparameters\n",
    "Tune the following parameters:\n",
    "* Set `epochs` to the number of iterations until the network stops learning or start overfitting\n",
    "* Set `batch_size` to the highest number that your machine has memory for.  Most people set them to common sizes of memory:\n",
    " * 64\n",
    " * 128\n",
    " * 256\n",
    " * ...\n",
    "* Set `keep_probability` to the probability of keeping a node using dropout"
   ]
  },
  {
   "cell_type": "code",
   "execution_count": 153,
   "metadata": {
    "collapsed": true
   },
   "outputs": [],
   "source": [
    "# TODO: Tune Parameters\n",
    "epochs = 30\n",
    "batch_size = 512\n",
    "keep_probability = 0.8"
   ]
  },
  {
   "cell_type": "markdown",
   "metadata": {},
   "source": [
    "### Train on a Single CIFAR-10 Batch\n",
    "Instead of training the neural network on all the CIFAR-10 batches of data, let's use a single batch. This should save time while you iterate on the model to get a better accuracy.  Once the final validation accuracy is 50% or greater, run the model on all the data in the next section."
   ]
  },
  {
   "cell_type": "code",
   "execution_count": 154,
   "metadata": {},
   "outputs": [
    {
     "name": "stdout",
     "output_type": "stream",
     "text": [
      "Checking the Training on a Single Batch...\n",
      "Epoch  1, CIFAR-10 Batch 1:  loss:  2.05613 accuracy:  0.2716\n",
      "Epoch  2, CIFAR-10 Batch 1:  loss:  1.88362 accuracy:  0.3334\n",
      "Epoch  3, CIFAR-10 Batch 1:  loss:  1.7493 accuracy:  0.3848\n",
      "Epoch  4, CIFAR-10 Batch 1:  loss:  1.63999 accuracy:  0.4158\n",
      "Epoch  5, CIFAR-10 Batch 1:  loss:  1.54423 accuracy:  0.448\n",
      "Epoch  6, CIFAR-10 Batch 1:  loss:  1.47599 accuracy:  0.4622\n",
      "Epoch  7, CIFAR-10 Batch 1:  loss:  1.39191 accuracy:  0.4732\n",
      "Epoch  8, CIFAR-10 Batch 1:  loss:  1.30673 accuracy:  0.4846\n",
      "Epoch  9, CIFAR-10 Batch 1:  loss:  1.23032 accuracy:  0.499\n",
      "Epoch 10, CIFAR-10 Batch 1:  loss:  1.16179 accuracy:  0.5084\n",
      "Epoch 11, CIFAR-10 Batch 1:  loss:  1.09999 accuracy:  0.512\n",
      "Epoch 12, CIFAR-10 Batch 1:  loss:  1.05109 accuracy:  0.522\n",
      "Epoch 13, CIFAR-10 Batch 1:  loss:  1.0105 accuracy:  0.5174\n",
      "Epoch 14, CIFAR-10 Batch 1:  loss:  0.966184 accuracy:  0.522\n",
      "Epoch 15, CIFAR-10 Batch 1:  loss:  0.902045 accuracy:  0.5354\n",
      "Epoch 16, CIFAR-10 Batch 1:  loss:  0.853516 accuracy:  0.5356\n",
      "Epoch 17, CIFAR-10 Batch 1:  loss:  0.8262 accuracy:  0.5354\n",
      "Epoch 18, CIFAR-10 Batch 1:  loss:  0.777364 accuracy:  0.5322\n",
      "Epoch 19, CIFAR-10 Batch 1:  loss:  0.739886 accuracy:  0.5346\n",
      "Epoch 20, CIFAR-10 Batch 1:  loss:  0.720527 accuracy:  0.5326\n",
      "Epoch 21, CIFAR-10 Batch 1:  loss:  0.675498 accuracy:  0.5366\n",
      "Epoch 22, CIFAR-10 Batch 1:  loss:  0.640743 accuracy:  0.53\n",
      "Epoch 23, CIFAR-10 Batch 1:  loss:  0.632521 accuracy:  0.5202\n",
      "Epoch 24, CIFAR-10 Batch 1:  loss:  0.593441 accuracy:  0.5354\n",
      "Epoch 25, CIFAR-10 Batch 1:  loss:  0.574592 accuracy:  0.5312\n",
      "Epoch 26, CIFAR-10 Batch 1:  loss:  0.537358 accuracy:  0.532\n",
      "Epoch 27, CIFAR-10 Batch 1:  loss:  0.496971 accuracy:  0.5412\n",
      "Epoch 28, CIFAR-10 Batch 1:  loss:  0.495187 accuracy:  0.5366\n",
      "Epoch 29, CIFAR-10 Batch 1:  loss:  0.475746 accuracy:  0.533\n",
      "Epoch 30, CIFAR-10 Batch 1:  loss:  0.461748 accuracy:  0.533\n"
     ]
    }
   ],
   "source": [
    "\"\"\"\n",
    "DON'T MODIFY ANYTHING IN THIS CELL\n",
    "\"\"\"\n",
    "print('Checking the Training on a Single Batch...')\n",
    "with tf.Session() as sess:\n",
    "    # Initializing the variables\n",
    "    sess.run(tf.global_variables_initializer())\n",
    "    \n",
    "    # Training cycle\n",
    "    for epoch in range(epochs):\n",
    "        batch_i = 1\n",
    "        for batch_features, batch_labels in helper.load_preprocess_training_batch(batch_i, batch_size):\n",
    "            train_neural_network(sess, optimizer, keep_probability, batch_features, batch_labels)\n",
    "        print('Epoch {:>2}, CIFAR-10 Batch {}:  '.format(epoch + 1, batch_i), end='')\n",
    "        print_stats(sess, batch_features, batch_labels, cost, accuracy)"
   ]
  },
  {
   "cell_type": "markdown",
   "metadata": {},
   "source": [
    "### Fully Train the Model\n",
    "Now that you got a good accuracy with a single CIFAR-10 batch, try it with all five batches."
   ]
  },
  {
   "cell_type": "code",
   "execution_count": 155,
   "metadata": {},
   "outputs": [
    {
     "name": "stdout",
     "output_type": "stream",
     "text": [
      "Training...\n",
      "Epoch  1, CIFAR-10 Batch 1:  loss:  2.08799 accuracy:  0.2544\n",
      "Epoch  1, CIFAR-10 Batch 2:  loss:  1.91058 accuracy:  0.3456\n",
      "Epoch  1, CIFAR-10 Batch 3:  loss:  1.67278 accuracy:  0.3698\n",
      "Epoch  1, CIFAR-10 Batch 4:  loss:  1.58146 accuracy:  0.415\n",
      "Epoch  1, CIFAR-10 Batch 5:  loss:  1.57745 accuracy:  0.425\n",
      "Epoch  2, CIFAR-10 Batch 1:  loss:  1.64725 accuracy:  0.4456\n",
      "Epoch  2, CIFAR-10 Batch 2:  loss:  1.50216 accuracy:  0.4412\n",
      "Epoch  2, CIFAR-10 Batch 3:  loss:  1.34335 accuracy:  0.4612\n",
      "Epoch  2, CIFAR-10 Batch 4:  loss:  1.32321 accuracy:  0.4828\n",
      "Epoch  2, CIFAR-10 Batch 5:  loss:  1.34782 accuracy:  0.4934\n",
      "Epoch  3, CIFAR-10 Batch 1:  loss:  1.46113 accuracy:  0.507\n",
      "Epoch  3, CIFAR-10 Batch 2:  loss:  1.29494 accuracy:  0.5092\n",
      "Epoch  3, CIFAR-10 Batch 3:  loss:  1.18888 accuracy:  0.5106\n",
      "Epoch  3, CIFAR-10 Batch 4:  loss:  1.1886 accuracy:  0.5242\n",
      "Epoch  3, CIFAR-10 Batch 5:  loss:  1.21593 accuracy:  0.527\n",
      "Epoch  4, CIFAR-10 Batch 1:  loss:  1.32698 accuracy:  0.5308\n",
      "Epoch  4, CIFAR-10 Batch 2:  loss:  1.20411 accuracy:  0.5256\n",
      "Epoch  4, CIFAR-10 Batch 3:  loss:  1.1124 accuracy:  0.5316\n",
      "Epoch  4, CIFAR-10 Batch 4:  loss:  1.09408 accuracy:  0.5544\n",
      "Epoch  4, CIFAR-10 Batch 5:  loss:  1.11781 accuracy:  0.5474\n",
      "Epoch  5, CIFAR-10 Batch 1:  loss:  1.25672 accuracy:  0.5458\n",
      "Epoch  5, CIFAR-10 Batch 2:  loss:  1.13771 accuracy:  0.5488\n",
      "Epoch  5, CIFAR-10 Batch 3:  loss:  1.04301 accuracy:  0.548\n",
      "Epoch  5, CIFAR-10 Batch 4:  loss:  1.02762 accuracy:  0.5636\n",
      "Epoch  5, CIFAR-10 Batch 5:  loss:  1.05724 accuracy:  0.5546\n",
      "Epoch  6, CIFAR-10 Batch 1:  loss:  1.16641 accuracy:  0.5648\n",
      "Epoch  6, CIFAR-10 Batch 2:  loss:  1.07454 accuracy:  0.564\n",
      "Epoch  6, CIFAR-10 Batch 3:  loss:  0.977291 accuracy:  0.5556\n",
      "Epoch  6, CIFAR-10 Batch 4:  loss:  0.960097 accuracy:  0.5756\n",
      "Epoch  6, CIFAR-10 Batch 5:  loss:  0.993578 accuracy:  0.5746\n",
      "Epoch  7, CIFAR-10 Batch 1:  loss:  1.09344 accuracy:  0.5798\n",
      "Epoch  7, CIFAR-10 Batch 2:  loss:  1.02343 accuracy:  0.5668\n",
      "Epoch  7, CIFAR-10 Batch 3:  loss:  0.937153 accuracy:  0.5634\n",
      "Epoch  7, CIFAR-10 Batch 4:  loss:  0.91083 accuracy:  0.5816\n",
      "Epoch  7, CIFAR-10 Batch 5:  loss:  0.956616 accuracy:  0.583\n",
      "Epoch  8, CIFAR-10 Batch 1:  loss:  1.05201 accuracy:  0.586\n",
      "Epoch  8, CIFAR-10 Batch 2:  loss:  0.977072 accuracy:  0.5836\n",
      "Epoch  8, CIFAR-10 Batch 3:  loss:  0.88763 accuracy:  0.574\n",
      "Epoch  8, CIFAR-10 Batch 4:  loss:  0.877148 accuracy:  0.5906\n",
      "Epoch  8, CIFAR-10 Batch 5:  loss:  0.906011 accuracy:  0.5962\n",
      "Epoch  9, CIFAR-10 Batch 1:  loss:  1.0081 accuracy:  0.587\n",
      "Epoch  9, CIFAR-10 Batch 2:  loss:  0.946224 accuracy:  0.5816\n",
      "Epoch  9, CIFAR-10 Batch 3:  loss:  0.838632 accuracy:  0.5838\n",
      "Epoch  9, CIFAR-10 Batch 4:  loss:  0.822755 accuracy:  0.6008\n",
      "Epoch  9, CIFAR-10 Batch 5:  loss:  0.878962 accuracy:  0.6028\n",
      "Epoch 10, CIFAR-10 Batch 1:  loss:  0.955522 accuracy:  0.6006\n",
      "Epoch 10, CIFAR-10 Batch 2:  loss:  0.898233 accuracy:  0.5976\n",
      "Epoch 10, CIFAR-10 Batch 3:  loss:  0.796847 accuracy:  0.5886\n",
      "Epoch 10, CIFAR-10 Batch 4:  loss:  0.773429 accuracy:  0.6078\n",
      "Epoch 10, CIFAR-10 Batch 5:  loss:  0.832649 accuracy:  0.6062\n",
      "Epoch 11, CIFAR-10 Batch 1:  loss:  0.923051 accuracy:  0.603\n",
      "Epoch 11, CIFAR-10 Batch 2:  loss:  0.869651 accuracy:  0.5936\n",
      "Epoch 11, CIFAR-10 Batch 3:  loss:  0.780629 accuracy:  0.598\n",
      "Epoch 11, CIFAR-10 Batch 4:  loss:  0.777236 accuracy:  0.6054\n",
      "Epoch 11, CIFAR-10 Batch 5:  loss:  0.82825 accuracy:  0.6096\n",
      "Epoch 12, CIFAR-10 Batch 1:  loss:  0.895323 accuracy:  0.605\n",
      "Epoch 12, CIFAR-10 Batch 2:  loss:  0.841558 accuracy:  0.5922\n",
      "Epoch 12, CIFAR-10 Batch 3:  loss:  0.756697 accuracy:  0.5996\n",
      "Epoch 12, CIFAR-10 Batch 4:  loss:  0.735207 accuracy:  0.6118\n",
      "Epoch 12, CIFAR-10 Batch 5:  loss:  0.80141 accuracy:  0.611\n",
      "Epoch 13, CIFAR-10 Batch 1:  loss:  0.87372 accuracy:  0.6072\n",
      "Epoch 13, CIFAR-10 Batch 2:  loss:  0.789324 accuracy:  0.6024\n",
      "Epoch 13, CIFAR-10 Batch 3:  loss:  0.727036 accuracy:  0.6052\n",
      "Epoch 13, CIFAR-10 Batch 4:  loss:  0.697691 accuracy:  0.6152\n",
      "Epoch 13, CIFAR-10 Batch 5:  loss:  0.767908 accuracy:  0.6178\n",
      "Epoch 14, CIFAR-10 Batch 1:  loss:  0.861539 accuracy:  0.6076\n",
      "Epoch 14, CIFAR-10 Batch 2:  loss:  0.773664 accuracy:  0.602\n",
      "Epoch 14, CIFAR-10 Batch 3:  loss:  0.682134 accuracy:  0.6114\n",
      "Epoch 14, CIFAR-10 Batch 4:  loss:  0.685437 accuracy:  0.6174\n",
      "Epoch 14, CIFAR-10 Batch 5:  loss:  0.745296 accuracy:  0.6158\n",
      "Epoch 15, CIFAR-10 Batch 1:  loss:  0.83309 accuracy:  0.6102\n",
      "Epoch 15, CIFAR-10 Batch 2:  loss:  0.741125 accuracy:  0.6008\n",
      "Epoch 15, CIFAR-10 Batch 3:  loss:  0.671719 accuracy:  0.6056\n",
      "Epoch 15, CIFAR-10 Batch 4:  loss:  0.667561 accuracy:  0.6186\n",
      "Epoch 15, CIFAR-10 Batch 5:  loss:  0.728247 accuracy:  0.621\n",
      "Epoch 16, CIFAR-10 Batch 1:  loss:  0.806127 accuracy:  0.6142\n",
      "Epoch 16, CIFAR-10 Batch 2:  loss:  0.715166 accuracy:  0.6056\n",
      "Epoch 16, CIFAR-10 Batch 3:  loss:  0.654557 accuracy:  0.6112\n",
      "Epoch 16, CIFAR-10 Batch 4:  loss:  0.636336 accuracy:  0.6254\n",
      "Epoch 16, CIFAR-10 Batch 5:  loss:  0.703441 accuracy:  0.6186\n",
      "Epoch 17, CIFAR-10 Batch 1:  loss:  0.800501 accuracy:  0.6138\n",
      "Epoch 17, CIFAR-10 Batch 2:  loss:  0.709578 accuracy:  0.608\n",
      "Epoch 17, CIFAR-10 Batch 3:  loss:  0.644226 accuracy:  0.6126\n",
      "Epoch 17, CIFAR-10 Batch 4:  loss:  0.633865 accuracy:  0.626\n",
      "Epoch 17, CIFAR-10 Batch 5:  loss:  0.692425 accuracy:  0.616\n",
      "Epoch 18, CIFAR-10 Batch 1:  loss:  0.763031 accuracy:  0.6156\n",
      "Epoch 18, CIFAR-10 Batch 2:  loss:  0.680847 accuracy:  0.6144\n",
      "Epoch 18, CIFAR-10 Batch 3:  loss:  0.640783 accuracy:  0.6188\n",
      "Epoch 18, CIFAR-10 Batch 4:  loss:  0.633601 accuracy:  0.618\n",
      "Epoch 18, CIFAR-10 Batch 5:  loss:  0.707857 accuracy:  0.6106\n",
      "Epoch 19, CIFAR-10 Batch 1:  loss:  0.710782 accuracy:  0.6192\n",
      "Epoch 19, CIFAR-10 Batch 2:  loss:  0.670371 accuracy:  0.6176\n",
      "Epoch 19, CIFAR-10 Batch 3:  loss:  0.63537 accuracy:  0.6186\n",
      "Epoch 19, CIFAR-10 Batch 4:  loss:  0.604034 accuracy:  0.6302\n",
      "Epoch 19, CIFAR-10 Batch 5:  loss:  0.666874 accuracy:  0.623\n",
      "Epoch 20, CIFAR-10 Batch 1:  loss:  0.697349 accuracy:  0.6186\n",
      "Epoch 20, CIFAR-10 Batch 2:  loss:  0.66099 accuracy:  0.6132\n",
      "Epoch 20, CIFAR-10 Batch 3:  loss:  0.607933 accuracy:  0.6218\n",
      "Epoch 20, CIFAR-10 Batch 4:  loss:  0.585465 accuracy:  0.6344\n",
      "Epoch 20, CIFAR-10 Batch 5:  loss:  0.635855 accuracy:  0.6256\n",
      "Epoch 21, CIFAR-10 Batch 1:  loss:  0.682399 accuracy:  0.6246\n",
      "Epoch 21, CIFAR-10 Batch 2:  loss:  0.633424 accuracy:  0.6176\n",
      "Epoch 21, CIFAR-10 Batch 3:  loss:  0.598961 accuracy:  0.623\n",
      "Epoch 21, CIFAR-10 Batch 4:  loss:  0.572213 accuracy:  0.6314\n",
      "Epoch 21, CIFAR-10 Batch 5:  loss:  0.6219 accuracy:  0.6274\n",
      "Epoch 22, CIFAR-10 Batch 1:  loss:  0.667973 accuracy:  0.6274\n",
      "Epoch 22, CIFAR-10 Batch 2:  loss:  0.61589 accuracy:  0.6158\n",
      "Epoch 22, CIFAR-10 Batch 3:  loss:  0.561595 accuracy:  0.633\n",
      "Epoch 22, CIFAR-10 Batch 4:  loss:  0.558179 accuracy:  0.6304\n",
      "Epoch 22, CIFAR-10 Batch 5:  loss:  0.611653 accuracy:  0.6256\n",
      "Epoch 23, CIFAR-10 Batch 1:  loss:  0.64377 accuracy:  0.6264\n",
      "Epoch 23, CIFAR-10 Batch 2:  loss:  0.606793 accuracy:  0.613\n",
      "Epoch 23, CIFAR-10 Batch 3:  loss:  0.565076 accuracy:  0.6248\n",
      "Epoch 23, CIFAR-10 Batch 4:  loss:  0.564181 accuracy:  0.6264\n",
      "Epoch 23, CIFAR-10 Batch 5:  loss:  0.62705 accuracy:  0.6174\n",
      "Epoch 24, CIFAR-10 Batch 1:  loss:  0.680521 accuracy:  0.6214\n",
      "Epoch 24, CIFAR-10 Batch 2:  loss:  0.634346 accuracy:  0.5956\n",
      "Epoch 24, CIFAR-10 Batch 3:  loss:  0.57075 accuracy:  0.6252\n",
      "Epoch 24, CIFAR-10 Batch 4:  loss:  0.564708 accuracy:  0.6264\n",
      "Epoch 24, CIFAR-10 Batch 5:  loss:  0.598151 accuracy:  0.6292\n",
      "Epoch 25, CIFAR-10 Batch 1:  loss:  0.657942 accuracy:  0.6216\n",
      "Epoch 25, CIFAR-10 Batch 2:  loss:  0.633863 accuracy:  0.596\n",
      "Epoch 25, CIFAR-10 Batch 3:  loss:  0.57039 accuracy:  0.6232\n",
      "Epoch 25, CIFAR-10 Batch 4:  loss:  0.572795 accuracy:  0.6218\n",
      "Epoch 25, CIFAR-10 Batch 5:  loss:  0.579572 accuracy:  0.6308\n",
      "Epoch 26, CIFAR-10 Batch 1:  loss:  0.639588 accuracy:  0.6168\n",
      "Epoch 26, CIFAR-10 Batch 2:  loss:  0.656628 accuracy:  0.5996\n",
      "Epoch 26, CIFAR-10 Batch 3:  loss:  0.580437 accuracy:  0.6186\n",
      "Epoch 26, CIFAR-10 Batch 4:  loss:  0.554253 accuracy:  0.6244\n",
      "Epoch 26, CIFAR-10 Batch 5:  loss:  0.568256 accuracy:  0.6324\n",
      "Epoch 27, CIFAR-10 Batch 1:  loss:  0.640851 accuracy:  0.607\n"
     ]
    },
    {
     "name": "stdout",
     "output_type": "stream",
     "text": [
      "Epoch 27, CIFAR-10 Batch 2:  loss:  0.642741 accuracy:  0.5934\n",
      "Epoch 27, CIFAR-10 Batch 3:  loss:  0.580358 accuracy:  0.6144\n",
      "Epoch 27, CIFAR-10 Batch 4:  loss:  0.516796 accuracy:  0.629\n",
      "Epoch 27, CIFAR-10 Batch 5:  loss:  0.576984 accuracy:  0.624\n",
      "Epoch 28, CIFAR-10 Batch 1:  loss:  0.603406 accuracy:  0.6228\n",
      "Epoch 28, CIFAR-10 Batch 2:  loss:  0.616633 accuracy:  0.5886\n",
      "Epoch 28, CIFAR-10 Batch 3:  loss:  0.56262 accuracy:  0.6248\n",
      "Epoch 28, CIFAR-10 Batch 4:  loss:  0.507336 accuracy:  0.6292\n",
      "Epoch 28, CIFAR-10 Batch 5:  loss:  0.547538 accuracy:  0.6316\n",
      "Epoch 29, CIFAR-10 Batch 1:  loss:  0.614739 accuracy:  0.6104\n",
      "Epoch 29, CIFAR-10 Batch 2:  loss:  0.584634 accuracy:  0.607\n",
      "Epoch 29, CIFAR-10 Batch 3:  loss:  0.568015 accuracy:  0.6166\n",
      "Epoch 29, CIFAR-10 Batch 4:  loss:  0.559776 accuracy:  0.6126\n",
      "Epoch 29, CIFAR-10 Batch 5:  loss:  0.545539 accuracy:  0.6278\n",
      "Epoch 30, CIFAR-10 Batch 1:  loss:  0.611324 accuracy:  0.6174\n",
      "Epoch 30, CIFAR-10 Batch 2:  loss:  0.611335 accuracy:  0.5854\n",
      "Epoch 30, CIFAR-10 Batch 3:  loss:  0.504052 accuracy:  0.6334\n",
      "Epoch 30, CIFAR-10 Batch 4:  loss:  0.533202 accuracy:  0.611\n",
      "Epoch 30, CIFAR-10 Batch 5:  loss:  0.529585 accuracy:  0.626\n"
     ]
    }
   ],
   "source": [
    "\"\"\"\n",
    "DON'T MODIFY ANYTHING IN THIS CELL\n",
    "\"\"\"\n",
    "save_model_path = './image_classification'\n",
    "\n",
    "print('Training...')\n",
    "with tf.Session() as sess:\n",
    "    # Initializing the variables\n",
    "    sess.run(tf.global_variables_initializer())\n",
    "    \n",
    "    # Training cycle\n",
    "    for epoch in range(epochs):\n",
    "        # Loop over all batches\n",
    "        n_batches = 5\n",
    "        for batch_i in range(1, n_batches + 1):\n",
    "            for batch_features, batch_labels in helper.load_preprocess_training_batch(batch_i, batch_size):\n",
    "                train_neural_network(sess, optimizer, keep_probability, batch_features, batch_labels)\n",
    "            print('Epoch {:>2}, CIFAR-10 Batch {}:  '.format(epoch + 1, batch_i), end='')\n",
    "            print_stats(sess, batch_features, batch_labels, cost, accuracy)\n",
    "            \n",
    "    # Save Model\n",
    "    saver = tf.train.Saver()\n",
    "    save_path = saver.save(sess, save_model_path)"
   ]
  },
  {
   "cell_type": "markdown",
   "metadata": {},
   "source": [
    "# Checkpoint\n",
    "The model has been saved to disk.\n",
    "## Test Model\n",
    "Test your model against the test dataset.  This will be your final accuracy. You should have an accuracy greater than 50%. If you don't, keep tweaking the model architecture and parameters."
   ]
  },
  {
   "cell_type": "code",
   "execution_count": 156,
   "metadata": {},
   "outputs": [
    {
     "name": "stdout",
     "output_type": "stream",
     "text": [
      "INFO:tensorflow:Restoring parameters from ./image_classification\n",
      "Testing Accuracy: 0.6167624086141587\n",
      "\n"
     ]
    },
    {
     "data": {
      "image/png": "[encoded data removed]",
      "text/plain": [
       "<matplotlib.figure.Figure at 0x207c4237978>"
      ]
     },
     "metadata": {
      "image/png": {
       "height": 319,
       "width": 355
      }
     },
     "output_type": "display_data"
    }
   ],
   "source": [
    "\"\"\"\n",
    "DON'T MODIFY ANYTHING IN THIS CELL\n",
    "\"\"\"\n",
    "%matplotlib inline\n",
    "%config InlineBackend.figure_format = 'retina'\n",
    "\n",
    "import tensorflow as tf\n",
    "import pickle\n",
    "import helper\n",
    "import random\n",
    "\n",
    "# Set batch size if not already set\n",
    "try:\n",
    "    if batch_size:\n",
    "        pass\n",
    "except NameError:\n",
    "    batch_size = 64\n",
    "\n",
    "save_model_path = './image_classification'\n",
    "n_samples = 4\n",
    "top_n_predictions = 3\n",
    "\n",
    "def test_model():\n",
    "    \"\"\"\n",
    "    Test the saved model against the test dataset\n",
    "    \"\"\"\n",
    "\n",
    "    test_features, test_labels = pickle.load(open('preprocess_test.p', mode='rb'))\n",
    "    loaded_graph = tf.Graph()\n",
    "\n",
    "    with tf.Session(graph=loaded_graph) as sess:\n",
    "        # Load model\n",
    "        loader = tf.train.import_meta_graph(save_model_path + '.meta')\n",
    "        loader.restore(sess, save_model_path)\n",
    "\n",
    "        # Get Tensors from loaded model\n",
    "        loaded_x = loaded_graph.get_tensor_by_name('x:0')\n",
    "        loaded_y = loaded_graph.get_tensor_by_name('y:0')\n",
    "        loaded_keep_prob = loaded_graph.get_tensor_by_name('keep_prob:0')\n",
    "        loaded_logits = loaded_graph.get_tensor_by_name('logits:0')\n",
    "        loaded_acc = loaded_graph.get_tensor_by_name('accuracy:0')\n",
    "        \n",
    "        # Get accuracy in batches for memory limitations\n",
    "        test_batch_acc_total = 0\n",
    "        test_batch_count = 0\n",
    "        \n",
    "        for test_feature_batch, test_label_batch in helper.batch_features_labels(test_features, test_labels, batch_size):\n",
    "            test_batch_acc_total += sess.run(\n",
    "                loaded_acc,\n",
    "                feed_dict={loaded_x: test_feature_batch, loaded_y: test_label_batch, loaded_keep_prob: 1.0})\n",
    "            test_batch_count += 1\n",
    "\n",
    "        print('Testing Accuracy: {}\\n'.format(test_batch_acc_total/test_batch_count))\n",
    "\n",
    "        # Print Random Samples\n",
    "        random_test_features, random_test_labels = tuple(zip(*random.sample(list(zip(test_features, test_labels)), n_samples)))\n",
    "        random_test_predictions = sess.run(\n",
    "            tf.nn.top_k(tf.nn.softmax(loaded_logits), top_n_predictions),\n",
    "            feed_dict={loaded_x: random_test_features, loaded_y: random_test_labels, loaded_keep_prob: 1.0})\n",
    "        helper.display_image_predictions(random_test_features, random_test_labels, random_test_predictions)\n",
    "\n",
    "\n",
    "test_model()"
   ]
  },
  {
   "cell_type": "markdown",
   "metadata": {},
   "source": [
    "## Why 50-80% Accuracy?\n",
    "You might be wondering why you can't get an accuracy any higher. First things first, 50% isn't bad for a simple CNN.  Pure guessing would get you 10% accuracy. However, you might notice people are getting scores [well above 80%](http://rodrigob.github.io/are_we_there_yet/build/classification_datasets_results.html#43494641522d3130).  That's because we haven't taught you all there is to know about neural networks. We still need to cover a few more techniques.\n",
    "## Submitting This Project\n",
    "When submitting this project, make sure to run all the cells before saving the notebook.  Save the notebook file as \"dlnd_image_classification.ipynb\" and save it as a HTML file under \"File\" -> \"Download as\".  Include the \"helper.py\" and \"problem_unittests.py\" files in your submission."
   ]
  }
 ],
 "metadata": {
  "kernelspec": {
   "display_name": "Python [conda env:tensorflow]",
   "language": "python",
   "name": "conda-env-tensorflow-py"
  },
  "language_info": {
   "codemirror_mode": {
    "name": "ipython",
    "version": 3
   },
   "file_extension": ".py",
   "mimetype": "text/x-python",
   "name": "python",
   "nbconvert_exporter": "python",
   "pygments_lexer": "ipython3",
   "version": "3.5.4"
  }
 },
 "nbformat": 4,
 "nbformat_minor": 1
}
